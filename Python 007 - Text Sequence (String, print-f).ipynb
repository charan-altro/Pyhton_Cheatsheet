{
 "cells": [
  {
   "cell_type": "markdown",
   "metadata": {},
   "source": [
    "https://realpython.com/python-strings/"
   ]
  },
  {
   "cell_type": "code",
   "execution_count": null,
   "metadata": {},
   "outputs": [],
   "source": [
    "help(str)\n",
    "\n",
    "Help on class str in module builtins:\n",
    "\n",
    "class str(object)\n",
    " |  str(object='') -> str\n",
    " |  str(bytes_or_buffer[, encoding[, errors]]) -> str\n",
    " |  \n",
    " |  Create a new string object from the given object. If encoding or\n",
    " |  errors is specified, then the object must expose a data buffer\n",
    " |  that will be decoded using the given encoding and error handler.\n",
    " |  Otherwise, returns the result of object.__str__() (if defined)\n",
    " |  or repr(object).\n",
    " |  encoding defaults to sys.getdefaultencoding().\n",
    " |  errors defaults to 'strict'.\n",
    " |  \n",
    " |  Methods defined here:\n",
    " |  \n",
    " |  __add__(self, value, /)\n",
    " |      Return self+value."
   ]
  },
  {
   "cell_type": "markdown",
   "metadata": {},
   "source": [
    "# Useful references"
   ]
  },
  {
   "cell_type": "markdown",
   "metadata": {},
   "source": [
    "# in\n",
    "\n",
    "    operator for searching in a sequence\n",
    "    \n",
    " https://docs.python.org/3/library/stdtypes.html#typesseq"
   ]
  },
  {
   "cell_type": "code",
   "execution_count": 2,
   "metadata": {},
   "outputs": [
    {
     "name": "stdout",
     "output_type": "stream",
     "text": [
      "True\n",
      "False\n"
     ]
    }
   ],
   "source": [
    "print('a' in 'abcd')\n",
    "print('x' in 'abcd')"
   ]
  },
  {
   "cell_type": "markdown",
   "metadata": {},
   "source": [
    "## slice\n",
    "    retrieve a subset of elements from a sequence\n",
    "   https://docs.python.org/3/library/functions.html?#slice"
   ]
  },
  {
   "cell_type": "code",
   "execution_count": 9,
   "metadata": {},
   "outputs": [
    {
     "name": "stdout",
     "output_type": "stream",
     "text": [
      "be\n",
      "bdf\n",
      "ab\n"
     ]
    }
   ],
   "source": [
    "x = 'abcdefg'\n",
    "print(x[1:6:3])\n",
    "\n",
    "# or\n",
    "print('abcdefg'[1:7:2])\n",
    "\n",
    "print('abcdefg'[0:2])"
   ]
  },
  {
   "cell_type": "markdown",
   "metadata": {},
   "source": [
    "## str.split\n",
    "\n",
    "    break strings apart, returning a list\n",
    "   \n",
    " https://docs.python.org/3/library/stdtypes.html?#str.split\n",
    " \n",
    "     str.split(sep=None, maxsplit=-1)\n"
   ]
  },
  {
   "cell_type": "code",
   "execution_count": 10,
   "metadata": {},
   "outputs": [
    {
     "data": {
      "text/plain": [
       "['1', '2', '3']"
      ]
     },
     "execution_count": 10,
     "metadata": {},
     "output_type": "execute_result"
    }
   ],
   "source": [
    "'1<>2<>3'.split('<>') "
   ]
  },
  {
   "cell_type": "code",
   "execution_count": 11,
   "metadata": {},
   "outputs": [
    {
     "data": {
      "text/plain": [
       "['1', '2,3']"
      ]
     },
     "execution_count": 11,
     "metadata": {},
     "output_type": "execute_result"
    }
   ],
   "source": [
    "'1,2,3'.split(',', maxsplit=1)"
   ]
  },
  {
   "cell_type": "markdown",
   "metadata": {},
   "source": [
    "# str.join\n",
    "\n",
    "    combine strings to create a new one\n",
    "    \n",
    "    \n",
    "  https://docs.python.org/3/library/stdtypes.html?#str.join\n",
    "  \n",
    "  \n",
    "str.join(iterable)"
   ]
  },
  {
   "cell_type": "code",
   "execution_count": 12,
   "metadata": {},
   "outputs": [
    {
     "data": {
      "text/plain": [
       "'abc*def*ghi'"
      ]
     },
     "execution_count": 12,
     "metadata": {},
     "output_type": "execute_result"
    }
   ],
   "source": [
    "'*'.join(['abc', 'def', 'ghi'])"
   ]
  },
  {
   "cell_type": "markdown",
   "metadata": {},
   "source": [
    "# list.append\n",
    "\n",
    "    add an element to a list\n",
    "\n",
    "https://docs.python.org/3/library/stdtypes.html?#typesseq-mutable\n",
    "\n",
    "list_name.append(item)\n",
    "\n",
    "\n",
    "https://towardsdatascience.com/append-in-python-41c37453400"
   ]
  },
  {
   "cell_type": "code",
   "execution_count": 16,
   "metadata": {},
   "outputs": [
    {
     "name": "stdout",
     "output_type": "stream",
     "text": [
      "['Medium', 'Python', 'Machine Learning', 'Data Science', 1]\n"
     ]
    }
   ],
   "source": [
    "# list of strings\n",
    "\n",
    "string_list = ['Medium','Python', 'Machine Learning','Data Science']\n",
    "\n",
    "#adding a new int item to the string_list\n",
    "string_list.append(1)\n",
    "#printing appended list\n",
    "print(string_list)"
   ]
  },
  {
   "cell_type": "code",
   "execution_count": 18,
   "metadata": {},
   "outputs": [
    {
     "data": {
      "text/plain": [
       "['Medium', 'Python', 'Machine Learning', 'Data Science', 1, [1, 2, 3, 4, 5]]"
      ]
     },
     "execution_count": 18,
     "metadata": {},
     "output_type": "execute_result"
    }
   ],
   "source": [
    "#lets create a new list\n",
    "new_list = [1,2,3,4,5]\n",
    "#append this list to our string_list\n",
    "string_list.append(new_list)\n",
    "# print the appended list\n",
    "string_list"
   ]
  },
  {
   "cell_type": "markdown",
   "metadata": {},
   "source": [
    "# sorted\n",
    "\n",
    "    return a sorted list, based on an input sequence\n",
    "    \n",
    "  https://docs.python.org/3/library/functions.html#sorted  \n",
    "    \n",
    "    sorted(iterable, *, key=None, reverse=False)"
   ]
  },
  {
   "cell_type": "code",
   "execution_count": 23,
   "metadata": {},
   "outputs": [
    {
     "data": {
      "text/plain": [
       "[10, 20, 30]"
      ]
     },
     "execution_count": 23,
     "metadata": {},
     "output_type": "execute_result"
    }
   ],
   "source": [
    "sorted([10, 30, 20])"
   ]
  },
  {
   "cell_type": "code",
   "execution_count": 24,
   "metadata": {},
   "outputs": [
    {
     "data": {
      "text/plain": [
       "[30, 20, 10]"
      ]
     },
     "execution_count": 24,
     "metadata": {},
     "output_type": "execute_result"
    }
   ],
   "source": [
    "sorted([10, 30, 20],reverse=True)"
   ]
  },
  {
   "cell_type": "markdown",
   "metadata": {},
   "source": [
    "## iterating over files\n",
    "\n",
    "    open a file, and iterate over its lines, one at a time\n",
    "    \n",
    "    https://docs.python.org/3/library/functions.html#open\n",
    "    \n",
    "    \n",
    "  open(file, mode='r', buffering=-1, encoding=None, errors=None, newline=None, closefd=True, opener=None)"
   ]
  },
  {
   "cell_type": "code",
   "execution_count": 63,
   "metadata": {},
   "outputs": [
    {
     "name": "stdout",
     "output_type": "stream",
     "text": [
      "1st lineIterating over file text file.\n",
      "2 nd line\n"
     ]
    }
   ],
   "source": [
    "import os\n",
    "file = open(\"Read_in_file.txt\",'r')\n",
    "print (file.read())"
   ]
  },
  {
   "cell_type": "code",
   "execution_count": 64,
   "metadata": {},
   "outputs": [
    {
     "name": "stdout",
     "output_type": "stream",
     "text": [
      "1st lineIt\n"
     ]
    }
   ],
   "source": [
    "import os\n",
    "file = open(\"Read_in_file.txt\",'r')\n",
    "print (file.read(10)) # print first 10 char"
   ]
  },
  {
   "cell_type": "code",
   "execution_count": 65,
   "metadata": {},
   "outputs": [
    {
     "name": "stdout",
     "output_type": "stream",
     "text": [
      "1st lineIterating over file text file.\n",
      "\n",
      "2 nd line\n"
     ]
    }
   ],
   "source": [
    "# or\n",
    "import os\n",
    "file = open(\"Read_in_file.txt\",'r')\n",
    "for each in file:\n",
    "    print (each)"
   ]
  },
  {
   "cell_type": "code",
   "execution_count": 66,
   "metadata": {},
   "outputs": [
    {
     "name": "stdout",
     "output_type": "stream",
     "text": [
      "This is the write command \n",
      "It allows us to write in a particular file\n"
     ]
    }
   ],
   "source": [
    "import os\n",
    "file = open(\"Write_in_file.txt\",'w') # this will delet if file name already present\n",
    "file.write(\"This is the write command \\n\")\n",
    "file.write(\"It allows us to write in a particular file\")\n",
    "file.close()\n",
    "file = open(\"Iterating over file text file.txt\",'r')\n",
    "print (file.read())"
   ]
  },
  {
   "cell_type": "code",
   "execution_count": null,
   "metadata": {},
   "outputs": [],
   "source": []
  },
  {
   "cell_type": "code",
   "execution_count": null,
   "metadata": {},
   "outputs": [],
   "source": []
  },
  {
   "cell_type": "code",
   "execution_count": null,
   "metadata": {},
   "outputs": [],
   "source": []
  },
  {
   "cell_type": "code",
   "execution_count": null,
   "metadata": {},
   "outputs": [],
   "source": []
  },
  {
   "cell_type": "code",
   "execution_count": 5,
   "metadata": {},
   "outputs": [
    {
     "name": "stdout",
     "output_type": "stream",
     "text": [
      "Help on class map in module builtins:\n",
      "\n",
      "class map(object)\n",
      " |  map(func, *iterables) --> map object\n",
      " |  \n",
      " |  Make an iterator that computes the function using arguments from\n",
      " |  each of the iterables.  Stops when the shortest iterable is exhausted.\n",
      " |  \n",
      " |  Methods defined here:\n",
      " |  \n",
      " |  __getattribute__(self, name, /)\n",
      " |      Return getattr(self, name).\n",
      " |  \n",
      " |  __iter__(self, /)\n",
      " |      Implement iter(self).\n",
      " |  \n",
      " |  __next__(self, /)\n",
      " |      Implement next(self).\n",
      " |  \n",
      " |  __reduce__(...)\n",
      " |      Return state information for pickling.\n",
      " |  \n",
      " |  ----------------------------------------------------------------------\n",
      " |  Static methods defined here:\n",
      " |  \n",
      " |  __new__(*args, **kwargs) from builtins.type\n",
      " |      Create and return a new object.  See help(type) for accurate signature.\n",
      "\n"
     ]
    }
   ],
   "source": [
    "help(map)"
   ]
  },
  {
   "cell_type": "markdown",
   "metadata": {},
   "source": [
    "### map()\n",
    "\n",
    "map() is a function that takes in two arguments: a function and a sequence iterable. In the form: map(function, sequence)\n",
    "\n",
    "https://realpython.com/python-map-function/\n",
    "\n",
    "\n",
    "    The first argument is the name of a function and the second a sequence (e.g. a list). \n",
    "    map() applies the function to all the elements of the sequence. \n",
    "    It returns a new list with the elements changed by function.\n",
    "\n",
    "    When we went over list comprehension we created a small expression to convert Fahrenheit to Celsius.\n",
    "    Let's do the same here but use map."
   ]
  },
  {
   "cell_type": "code",
   "execution_count": null,
   "metadata": {},
   "outputs": [],
   "source": [
    "map(function, iterable[, iterable1, iterable2,..., iterableN])"
   ]
  },
  {
   "cell_type": "markdown",
   "metadata": {},
   "source": [
    "###### examples"
   ]
  },
  {
   "cell_type": "code",
   "execution_count": 3,
   "metadata": {},
   "outputs": [
    {
     "name": "stdout",
     "output_type": "stream",
     "text": [
      "['Processing', 'Strings', 'With', 'Map']\n",
      "['PROCESSING', 'STRINGS', 'WITH', 'MAP']\n",
      "['processing', 'strings', 'with', 'map']\n"
     ]
    }
   ],
   "source": [
    "string_it = [\"processing\", \"strings\", \"with\", \"map\"]\n",
    "print(list(map(str.capitalize, string_it)))\n",
    "print(list(map(str.upper, string_it)))\n",
    "print(list(map(str.lower, string_it)))"
   ]
  },
  {
   "cell_type": "code",
   "execution_count": 5,
   "metadata": {},
   "outputs": [
    {
     "name": "stdout",
     "output_type": "stream",
     "text": [
      "['processing', 'strings', 'with', 'map']\n",
      "['processing', 'strings', 'with', 'map']\n"
     ]
    }
   ],
   "source": [
    "with_spaces = [\"processing \", \"  strings\", \"with   \", \" map   \"]\n",
    "print(list(map(str.strip, with_spaces)))\n",
    "with_dots = [\"processing..\", \"...strings\", \"with....\", \"..map..\"]\n",
    "print(list(map(lambda s: s.strip(\".\"), with_dots)))"
   ]
  },
  {
   "cell_type": "code",
   "execution_count": null,
   "metadata": {},
   "outputs": [],
   "source": []
  },
  {
   "cell_type": "code",
   "execution_count": null,
   "metadata": {},
   "outputs": [],
   "source": []
  },
  {
   "cell_type": "code",
   "execution_count": null,
   "metadata": {},
   "outputs": [],
   "source": []
  },
  {
   "cell_type": "code",
   "execution_count": 7,
   "metadata": {},
   "outputs": [
    {
     "name": "stdout",
     "output_type": "stream",
     "text": [
      "Help on built-in function count:\n",
      "\n",
      "count(value, /) method of builtins.list instance\n",
      "    Return number of occurrences of value.\n",
      "\n"
     ]
    }
   ],
   "source": [
    "l = [1,2,3,4]\n",
    "help(l.count)"
   ]
  },
  {
   "cell_type": "code",
   "execution_count": null,
   "metadata": {},
   "outputs": [],
   "source": []
  },
  {
   "cell_type": "code",
   "execution_count": null,
   "metadata": {},
   "outputs": [],
   "source": []
  }
 ],
 "metadata": {
  "kernelspec": {
   "display_name": "Python 3",
   "language": "python",
   "name": "python3"
  },
  "language_info": {
   "codemirror_mode": {
    "name": "ipython",
    "version": 3
   },
   "file_extension": ".py",
   "mimetype": "text/x-python",
   "name": "python",
   "nbconvert_exporter": "python",
   "pygments_lexer": "ipython3",
   "version": "3.7.6"
  }
 },
 "nbformat": 4,
 "nbformat_minor": 4
}
