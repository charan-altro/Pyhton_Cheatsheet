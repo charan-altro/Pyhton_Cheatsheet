{
 "cells": [
  {
   "cell_type": "markdown",
   "metadata": {},
   "source": [
    "## Python vs Other Languages"
   ]
  },
  {
   "cell_type": "markdown",
   "metadata": {},
   "source": [
    "Let's create a simple statement that says: \"If a is greater than b, assign 2 to a and 4 to b\"\n",
    "\n",
    "Take a look at these two if statements (we will learn about building out if statements soon)."
   ]
  },
  {
   "cell_type": "markdown",
   "metadata": {},
   "source": [
    "### Version 1 (Other Languages)\n"
   ]
  },
  {
   "cell_type": "markdown",
   "metadata": {},
   "source": [
    "    if (a>b){\n",
    "        a = 2;\n",
    "        b = 4;\n",
    "    }"
   ]
  },
  {
   "cell_type": "markdown",
   "metadata": {},
   "source": [
    "### Version 2 (Python)"
   ]
  },
  {
   "cell_type": "markdown",
   "metadata": {},
   "source": [
    "    \n",
    "    if a>b:\n",
    "        a = 2\n",
    "        b = 4"
   ]
  },
  {
   "cell_type": "markdown",
   "metadata": {},
   "source": [
    "#### whitespace is used (indentation) to describe what takes place in case of the statement."
   ]
  },
  {
   "cell_type": "markdown",
   "metadata": {},
   "source": [
    "## Indentation"
   ]
  },
  {
   "cell_type": "markdown",
   "metadata": {},
   "source": [
    "###### Here is some pseudo-code to indicate the use of whitespace and indentation in Python"
   ]
  },
  {
   "cell_type": "markdown",
   "metadata": {},
   "source": [
    "    Other Languages\n",
    "    \n",
    "    if (x)\n",
    "        if(y)\n",
    "            code-statement;\n",
    "    else\n",
    "        another-code-statement;\n",
    "    \n",
    "    Python\n",
    "    \n",
    "    if x:\n",
    "        if y:\n",
    "            code-statement\n",
    "    else:\n",
    "        another-code-statement\n",
    "        \n",
    "    Indentation in Python refers to the (spaces and tabs) that are used at the beginning of a statement."
   ]
  },
  {
   "cell_type": "code",
   "execution_count": 36,
   "metadata": {},
   "outputs": [
    {
     "data": {
      "image/png": "[encoded data removed]",
      "text/plain": [
       "<IPython.core.display.Image object>"
      ]
     },
     "execution_count": 36,
     "metadata": {},
     "output_type": "execute_result"
    }
   ],
   "source": [
    "from IPython import display\n",
    "display.Image(\"https://www.python-course.eu/images/blocks.png\")"
   ]
  },
  {
   "cell_type": "markdown",
   "metadata": {},
   "source": [
    "## Python - Namespaces (indentation)"
   ]
  },
  {
   "cell_type": "markdown",
   "metadata": {},
   "source": [
    "    Write the function definition for the function  'Assign' to assign the different types of variables in its parameters to new variables.\n",
    "\n",
    "    Parameters:\n",
    "\n",
    "    1.An INTEGER in the variable 'i'\n",
    "\n",
    "    2.A FLOAT in the variable 'f'\n",
    "\n",
    "    3.A STRING in the variable 's'\n",
    "\n",
    "    4.A BOOLEAN in the variable 'b'\n",
    "\n",
    " \n",
    "\n",
    "    New Variables to be assigned with :\n",
    "\n",
    "    1.An INTEGER in the variable 'w'\n",
    "\n",
    "    2.A FLOAT in the variable 'x'\n",
    "\n",
    "    3.A STRING in the variable 'y'\n",
    "\n",
    "    4.A BOOLEAN in the variable 'z'\n",
    "\n",
    " \n",
    "\n",
    "    Assign the parameter variables Respectively.and\n",
    "\n",
    "    Print these in the following order:\n",
    "\n",
    "    1.w\n",
    "\n",
    "    2.x\n",
    "\n",
    "    3.y\n",
    "\n",
    "    4.z\n",
    "\n",
    "    5.Display all the objects defined in the current namespace by using the 'dir' function\n",
    "\n",
    " \n",
    "\n",
    "    Input Format for Custom Testing:\n",
    "\n",
    "    In the first line, value for 'i'\n",
    "\n",
    "     In the second line, value for 'f'\n",
    "\n",
    "     In the third line, value for 's'\n",
    "\n",
    "    In the fourth line, value for 'b'\n",
    "\n",
    " \n",
    "\n",
    "Sample Test Case 1:\n",
    "\n",
    " \n",
    "\n",
    "    \n",
    "    Sample Input\n",
    "\n",
    "    \n",
    "    STDIN      Function parameter\n",
    "-----      ------------------\n",
    "    \n",
    "    10      →  i\n",
    "    \n",
    "    3.14    →  f\n",
    "    \n",
    "    One     →  s\n",
    "    \n",
    "    True    →  b\n",
    " \n",
    "\n",
    "    \n",
    "    Sample Output\n",
    "\n",
    "    \n",
    "    10\n",
    "    \n",
    "    3.14\n",
    "    \n",
    "    One\n",
    "    \n",
    "    True\n",
    "    \n",
    "    ['b', 'f', 'i', 's', 'w', 'x', 'y', 'z']\n",
    "    \n",
    "    Language: Python 3\n",
    "    \n",
    "    Autocomplete Ready\n"
   ]
  },
  {
   "cell_type": "code",
   "execution_count": 2,
   "metadata": {},
   "outputs": [
    {
     "name": "stdout",
     "output_type": "stream",
     "text": [
      "1\n",
      "3.14\n",
      "sdf\n",
      "True\n",
      "1\n",
      "3.14\n",
      "sdf\n",
      "True\n",
      "['b', 'f', 'i', 's', 'w', 'x', 'y', 'z']\n"
     ]
    }
   ],
   "source": [
    "#!/bin/python3\n",
    "\n",
    "import math\n",
    "import os\n",
    "import random\n",
    "import re\n",
    "import sys\n",
    "\n",
    "\n",
    "\n",
    "#\n",
    "# Complete the 'Assign' function below.\n",
    "#\n",
    "# The function accepts following parameters:\n",
    "#  1. INTEGER i\n",
    "#  2. FLOAT f\n",
    "#  3. STRING s\n",
    "#  4. BOOLEAN b\n",
    "#\n",
    "\n",
    "def Assign(i, f, s, b):\n",
    "    w = int(i)\n",
    "    x = float(f)\n",
    "    y = str(s)\n",
    "    z = b\n",
    "    print(\"{}\\n{}\\n{}\\n{}\".format(w,x,y,z))\n",
    "    print(dir())\n",
    "    # Write your code here\n",
    "    return()\n",
    "if __name__ == '__main__':\n",
    "\n",
    "    i = int(input().strip())\n",
    "\n",
    "    f = float(input().strip())\n",
    "\n",
    "    s = input()\n",
    "\n",
    "    b = input().strip()\n",
    "    \n",
    "    Assign(i, f, s, b)"
   ]
  },
  {
   "cell_type": "markdown",
   "metadata": {},
   "source": [
    "# if,elif,else Statements\n",
    "https://docs.python.org/3/tutorial/controlflow.html?highlight=statements"
   ]
  },
  {
   "cell_type": "code",
   "execution_count": 9,
   "metadata": {},
   "outputs": [
    {
     "data": {
      "image/jpeg": "[encoded data removed]",
      "text/plain": [
       "<IPython.core.display.Image object>"
      ]
     },
     "execution_count": 9,
     "metadata": {},
     "output_type": "execute_result"
    }
   ],
   "source": [
    "display.Image(\"https://cdn.programiz.com/sites/tutorial2program/files/Python_if_elif_else_statement.jpg\")"
   ]
  },
  {
   "cell_type": "markdown",
   "metadata": {},
   "source": [
    "## Operator\tDescription\n",
    "### +.......................Addition \n",
    "### - ....................Subtraction \n",
    "### *......................Multiplication \n",
    "### /......................Float division \n",
    "### //......................Integer division \n",
    "### % ......................Module (gives remainder) \n",
    "### **......................Exponent \n",
    "### -x....................x negated\n",
    "### +x...................x unchanged\n",
    "### divmod(x, y)...................the pair (x // y, x % y)\n",
    "### pow(x, y)..................x to the power y"
   ]
  },
  {
   "cell_type": "markdown",
   "metadata": {},
   "source": [
    "## Python supports the usual logical conditions from mathematics:\n",
    "\n",
    "### Equals: a == b\n",
    "### Not Equals: a != b\n",
    "### Less than: a < b\n",
    "### Less than or equal to: a <= b\n",
    "### Greater than: a > b\n",
    "### Greater than or equal to: a >= b\n",
    "### Object identity  --> a is b\n",
    "### negated object identity ---> a is not  b\n",
    "\n",
    "\n",
    "https://docs.python.org/3/library/stdtypes.html#range"
   ]
  },
  {
   "cell_type": "markdown",
   "metadata": {},
   "source": [
    "## PRECEDENCE RULES:  \n",
    "### 1.Operators:  First preference given to operators. \n",
    "\n",
    "### 2.Paranthesis:  second preference to parenthesis\n",
    "### 3. Exponent :  Tule follow from right to left.\n",
    "### 4. '*'--->'/ '--->'//'--->'%'--->'+'--->' -' : works from left to right \n"
   ]
  },
  {
   "cell_type": "markdown",
   "metadata": {},
   "source": [
    "## And :\n",
    "    The and keyword is a logical operator, and is used to combine conditional statements"
   ]
  },
  {
   "cell_type": "markdown",
   "metadata": {},
   "source": [
    "# Or :\n",
    "    The or keyword is a logical operator, and is used to combine conditional statement"
   ]
  },
  {
   "cell_type": "markdown",
   "metadata": {},
   "source": [
    "# not x\n",
    "\n",
    "    if x is false, then True, else False"
   ]
  },
  {
   "cell_type": "markdown",
   "metadata": {},
   "source": []
  },
  {
   "cell_type": "code",
   "execution_count": null,
   "metadata": {},
   "outputs": [],
   "source": []
  },
  {
   "cell_type": "markdown",
   "metadata": {},
   "source": [
    "# Example problem\n",
    "    Given an integer n, , perform the following conditional actions:\n",
    "\n",
    "    If n is odd, print Weird\n",
    "    If n is even and in the inclusive range of 2 to 5 , print Not Weird\n",
    "    If n is even and in the inclusive range of  6 to 20, print Weird\n",
    "    If n is even and greater than 20, print Not Weird\n",
    "\n",
    "    Input Format\n",
    "\n",
    "    A single line containing a positive integer, .\n",
    "\n",
    "    Constraints 1<= n >= 100\n",
    "\n",
    "    Output Format\n",
    "\n",
    "    Print Weird if the number is weird. Otherwise, print Not Weird.\n"
   ]
  },
  {
   "cell_type": "code",
   "execution_count": null,
   "metadata": {},
   "outputs": [],
   "source": [
    "import math\n",
    "import os\n",
    "import random\n",
    "import re\n",
    "import sys\n",
    "n = int(input().strip())\n",
    "def If_Else():\n",
    "    if n > 0 and n < 100:\n",
    "        pass\n",
    "        if n % 2 != 0:\n",
    "            print(\"Weird\")\n",
    "        elif n > 1 and n < 6:\n",
    "            print(\"Not Weird\")\n",
    "        elif n > 7 and n < 21:\n",
    "            print(\"Weird\")\n",
    "        elif n > 21 and n < 101:\n",
    "            print(\"Not Weird\")\n",
    "        else:\n",
    "            pass\n",
    "    else:\n",
    "        print(\"please enter the Positive number between 1 to 100\")\n",
    "    \n",
    "    return\n",
    "If_Else()\n"
   ]
  },
  {
   "cell_type": "markdown",
   "metadata": {},
   "source": [
    "## break, continue and pass in Python\n",
    "https://www.geeksforgeeks.org/break-continue-and-pass-in-python/"
   ]
  },
  {
   "cell_type": "markdown",
   "metadata": {},
   "source": [
    "# Break:\n",
    "    In Python, the break statement provides you with the opportunity to exit out of a loop when an external condition is triggered."
   ]
  },
  {
   "cell_type": "code",
   "execution_count": 4,
   "metadata": {},
   "outputs": [
    {
     "name": "stdout",
     "output_type": "stream",
     "text": [
      "Number is 0\n",
      "Number is 1\n",
      "Number is 2\n",
      "Number is 3\n",
      "Number is 4\n",
      "Out of loop\n"
     ]
    }
   ],
   "source": [
    "number = 0\n",
    "\n",
    "for number in range(10):\n",
    "    if number == 5:\n",
    "        break    # break here\n",
    "\n",
    "    print('Number is ' + str(number))\n",
    "\n",
    "print('Out of loop')"
   ]
  },
  {
   "cell_type": "markdown",
   "metadata": {},
   "source": [
    "## Continue Statement\n",
    "    The continue statement gives you the option to skip over the part of a loop where an external condition is triggered, but to go on to complete the rest of the loop. That is, the current iteration of the loop will be disrupted, but the program will return to the top of the loop.\n"
   ]
  },
  {
   "cell_type": "code",
   "execution_count": 5,
   "metadata": {},
   "outputs": [
    {
     "name": "stdout",
     "output_type": "stream",
     "text": [
      "Number is 0\n",
      "Number is 1\n",
      "Number is 2\n",
      "Number is 3\n",
      "Number is 4\n",
      "Number is 6\n",
      "Number is 7\n",
      "Number is 8\n",
      "Number is 9\n",
      "Out of loop\n"
     ]
    }
   ],
   "source": [
    "number = 0\n",
    "\n",
    "for number in range(10):\n",
    "    if number == 5:\n",
    "        continue    # continue here\n",
    "\n",
    "    print('Number is ' + str(number))\n",
    "\n",
    "print('Out of loop')"
   ]
  },
  {
   "cell_type": "markdown",
   "metadata": {},
   "source": [
    "## Pass Statement\n",
    "    When an external condition is triggered, the pass statement allows you to handle the condition without the loop being impacted in any way; all of the code will continue to be read unless a break or other statement occurs."
   ]
  },
  {
   "cell_type": "code",
   "execution_count": 10,
   "metadata": {},
   "outputs": [
    {
     "name": "stdout",
     "output_type": "stream",
     "text": [
      "Number is 0\n",
      "Number is 1\n",
      "Number is 2\n",
      "Number is 3\n",
      "Number is 4\n",
      "Number is 5\n",
      "Number is 6\n",
      "it was pass the if statement\n",
      "Number is 7\n",
      "Number is 10\n",
      "Number is 10\n",
      "Out of loop\n"
     ]
    }
   ],
   "source": [
    "number = 0\n",
    "\n",
    "for number in range(10):\n",
    "    if number == 5:\n",
    "        pass    # pass here\n",
    "    elif number == 7:\n",
    "        print(\"it was pass the if statement\")\n",
    "    elif number == 8 or number == 9:\n",
    "        number = 10\n",
    "        \n",
    "\n",
    "    print('Number is ' + str(number))\n",
    "\n",
    "print('Out of loop')"
   ]
  },
  {
   "cell_type": "markdown",
   "metadata": {},
   "source": [
    "# Data_types\n",
    "\n",
    "https://www.w3schools.com/python/python_datatypes.asp\n",
    "\n",
    "https://docs.python.org/3/library/datatypes.html"
   ]
  },
  {
   "cell_type": "raw",
   "metadata": {},
   "source": [
    "Text Type:\tstr\n",
    "Numeric Types:\tint, float, complex\n",
    "Sequence Types:\tlist, tuple, range\n",
    "Mapping Type:\tdict\n",
    "Set Types:\tset, frozenset\n",
    "Boolean Type:\tbool\n",
    "Binary Types:\tbytes, bytearray, memoryview"
   ]
  },
  {
   "cell_type": "markdown",
   "metadata": {},
   "source": [
    "### Setting the Specific Data Typ"
   ]
  },
  {
   "cell_type": "raw",
   "metadata": {},
   "source": [
    "x = str(\"Hello World\")\t\n",
    "x = int(20)\t\n",
    "x = float(20.5)\t\n",
    "x = complex(1j)\n",
    "x = list((\"apple\", \"banana\", \"cherry\"))\t\n",
    "x = tuple((\"apple\", \"banana\", \"cherry\"))\t\n",
    "x = range(6)\n",
    "x = dict(name=\"John\", age=36)\n",
    "x = set((\"apple\", \"banana\", \"cherry\"))\n",
    "x = frozenset((\"apple\", \"banana\", \"cherry\"))\t\n",
    "x = bool(5)\n",
    "x = bytes(5)\n",
    "x = bytearray(5)\n",
    "x = memoryview(bytes(5))\n"
   ]
  },
  {
   "cell_type": "markdown",
   "metadata": {},
   "source": [
    "## Ranges\n",
    "    The range type represents an immutable sequence of numbers and is commonly used for looping a specific number of times in for loops."
   ]
  },
  {
   "cell_type": "code",
   "execution_count": null,
   "metadata": {},
   "outputs": [],
   "source": [
    "class range(stop)\n",
    "class range(start, stop[, step])"
   ]
  },
  {
   "cell_type": "code",
   "execution_count": 35,
   "metadata": {},
   "outputs": [
    {
     "name": "stdout",
     "output_type": "stream",
     "text": [
      "range(0, 2)\n",
      "0\n",
      "1\n",
      "2\n",
      "include steps\n",
      "0\n",
      "3\n",
      "6\n",
      "9\n"
     ]
    }
   ],
   "source": [
    "x = range (2)\n",
    "print(x)\n",
    "for y in range(3):\n",
    "    print(y)\n",
    "print(\"include steps\")\n",
    "for z in range(0,10,3):\n",
    "    print(z)"
   ]
  },
  {
   "cell_type": "code",
   "execution_count": null,
   "metadata": {},
   "outputs": [],
   "source": [
    "\n"
   ]
  },
  {
   "cell_type": "code",
   "execution_count": null,
   "metadata": {},
   "outputs": [],
   "source": []
  }
 ],
 "metadata": {
  "kernelspec": {
   "display_name": "Python 3",
   "language": "python",
   "name": "python3"
  },
  "language_info": {
   "codemirror_mode": {
    "name": "ipython",
    "version": 3
   },
   "file_extension": ".py",
   "mimetype": "text/x-python",
   "name": "python",
   "nbconvert_exporter": "python",
   "pygments_lexer": "ipython3",
   "version": "3.7.6"
  }
 },
 "nbformat": 4,
 "nbformat_minor": 4
}
