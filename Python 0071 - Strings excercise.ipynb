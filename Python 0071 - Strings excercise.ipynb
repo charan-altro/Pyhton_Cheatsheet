{
 "cells": [
  {
   "cell_type": "markdown",
   "metadata": {},
   "source": [
    "# Exercise 5: Pig Latin\n",
    "\n",
    "Write a function, pig_latin, that takes a string argument.\n",
    "\n",
    "It returns the word, translated into Pig Latin."
   ]
  },
  {
   "cell_type": "code",
   "execution_count": 1,
   "metadata": {},
   "outputs": [
    {
     "name": "stdout",
     "output_type": "stream",
     "text": [
      "octopusway\n",
      "omputercay\n"
     ]
    }
   ],
   "source": [
    "def pig_latin(word):\n",
    "    if word[0] in 'aeiou':\n",
    "        return word + 'way'\n",
    "    else:\n",
    "        return word[1:] + word[0] + 'ay'\n",
    "    \n",
    "print(pig_latin('octopus'))\n",
    "print(pig_latin('computer'))\n",
    "\n"
   ]
  },
  {
   "cell_type": "code",
   "execution_count": 8,
   "metadata": {},
   "outputs": [
    {
     "name": "stdout",
     "output_type": "stream",
     "text": [
      "octopusway\n",
      "omputercay\n"
     ]
    }
   ],
   "source": [
    "\"\"\"Solution to chapter 2, exercise 5: pig_latin\"\"\"\n",
    "\n",
    "\n",
    "def pig_latin(word):\n",
    "    \"\"\"Translates a word into Pig Latin.\n",
    "The \"word\" parameter is assumed to be an\n",
    "English word, returned as a string.\n",
    "\"\"\"\n",
    "    if word[0] in 'aeiou':\n",
    "        return f'{word}way'\n",
    "\n",
    "    return f'{word[1:]}{word[0]}ay'\n",
    "print(pig_latin('octopus'))\n",
    "print(pig_latin('computer'))\n"
   ]
  },
  {
   "cell_type": "code",
   "execution_count": null,
   "metadata": {},
   "outputs": [],
   "source": [
    "# word \n",
    "\n",
    "# if the word starts with a vowel (a, e, i, o, or u)\n",
    "# then we add \"way\" to the word\n",
    "\n",
    "# octopus -> octopusway\n",
    "# elephant -> elephantway\n",
    "# umbrella -> umbrellaway\n",
    "\n",
    "# in other cases, we take the first letter and push\n",
    "# it to the end of the word, and then add \"ay\"\n",
    "\n",
    "# computer -> omputercay\n",
    "# table -> abletay\n",
    "# tree -> reetay\n",
    "# papaya -> apayapay\n",
    "\n"
   ]
  },
  {
   "cell_type": "code",
   "execution_count": 16,
   "metadata": {},
   "outputs": [
    {
     "name": "stdout",
     "output_type": "stream",
     "text": [
      "Octopusway\n",
      "Omputercay\n"
     ]
    }
   ],
   "source": [
    "\"\"\"Solution to chapter 2, exercise 5, beyond 1: Pig Latin, handle capitalization\"\"\"\n",
    "\n",
    "import string\n",
    "\n",
    "\n",
    "def pig_latin_capitalized(word):\n",
    "    \"\"\"Translates a word into Pig Latin.\n",
    "The \"word\" parameter is assumed to be an\n",
    "English word, returned as a string.\n",
    "\n",
    "If the original word is capitalized, then the output\n",
    "should be, as well.\n",
    "\"\"\"\n",
    "    if word[0].lower() in 'aeiou':\n",
    "        output = f'{word}way'\n",
    "    else:\n",
    "        output = f'{word[1:]}{word[0]}ay'\n",
    "\n",
    "    if word[0] in string.ascii_uppercase:\n",
    "        output = output.capitalize()\n",
    "\n",
    "    return output\n",
    "\n",
    "\n",
    "print(pig_latin_capitalized('OcTopus'))\n",
    "print(pig_latin_capitalized('CoMputer'))"
   ]
  },
  {
   "cell_type": "code",
   "execution_count": 23,
   "metadata": {},
   "outputs": [],
   "source": [
    "def pig_latin_punctuated(word):\n",
    "    \"\"\"Translates a word into Pig Latin.\n",
    "The \"word\" parameter is assumed to be an\n",
    "English word, returned as a string.\n",
    "\n",
    "If the original word ends with punctuation, then\n",
    "the output word ends with the same punctuation.\n",
    "\"\"\"\n",
    "    punctuation = ''\n",
    "    if word[-1] in '.?!':\n",
    "        punctuation = word[-1]\n",
    "        word = word[:-1]\n",
    "\n",
    "    if word[0].lower() in 'aeiou':\n",
    "        output = f'{word}way'\n",
    "\n",
    "    output = f'{word[0:]}{word[0]}ay'\n",
    "\n",
    "    return output + punctuation\n"
   ]
  },
  {
   "cell_type": "code",
   "execution_count": 24,
   "metadata": {},
   "outputs": [
    {
     "name": "stdout",
     "output_type": "stream",
     "text": [
      "octopus?*oay\n"
     ]
    }
   ],
   "source": [
    "print(pig_latin_punctuated('octopus?*'))"
   ]
  },
  {
   "cell_type": "code",
   "execution_count": 33,
   "metadata": {},
   "outputs": [],
   "source": [
    "\"\"\"Solution to chapter 2, exercise 5, beyond 3: Pig Latin, different vowels\"\"\"\n",
    "\n",
    "\n",
    "def pig_latin_multivowels(word):\n",
    "    \"\"\"Our test for moving the\n",
    "first letter to the end is whether\n",
    "the word contains two or more different vowels.\n",
    "\"\"\"\n",
    "    number_of_vowels = len(set(word) & set('aeiou'))\n",
    "\n",
    "    if number_of_vowels > 1:\n",
    "        return f'{word}way'\n",
    "\n",
    "    return f'{word[1:]}{word[0]}ay'\n"
   ]
  },
  {
   "cell_type": "code",
   "execution_count": 34,
   "metadata": {},
   "outputs": [
    {
     "name": "stdout",
     "output_type": "stream",
     "text": [
      "abbebbbway\n"
     ]
    }
   ],
   "source": [
    "print(pig_latin_multivowels('abbebbb'))"
   ]
  },
  {
   "cell_type": "code",
   "execution_count": null,
   "metadata": {},
   "outputs": [],
   "source": []
  },
  {
   "cell_type": "markdown",
   "metadata": {},
   "source": [
    "# Exercise 6: Pig Latin sentence\n",
    "\n",
    "Write a function, pl_sentence, that takes a string\n",
    "argument. This string should be treated as a sentence\n",
    "(without capitals, and without punctuation).\n",
    "\n",
    "The function should return a string in which each word\n",
    "has been translated into Pig Latin."
   ]
  },
  {
   "cell_type": "code",
   "execution_count": 14,
   "metadata": {},
   "outputs": [
    {
     "name": "stdout",
     "output_type": "stream",
     "text": [
      "histay isway away esttay\n"
     ]
    }
   ],
   "source": [
    "def pl_sentence(sentence):\n",
    "    output = []\n",
    "    for word in sentence.split():\n",
    "        if word[0] in 'aeiou':\n",
    "            output.append(word + 'way')\n",
    "        else:\n",
    "            output.append(word[1:] + word[0] + 'ay')\n",
    "    return ' '.join(output)\n",
    "    \n",
    "print(pl_sentence('this is a test'))\n",
    "    "
   ]
  },
  {
   "cell_type": "code",
   "execution_count": 10,
   "metadata": {},
   "outputs": [
    {
     "data": {
      "text/plain": [
       "['this', 'is', 'a', 'test']"
      ]
     },
     "execution_count": 10,
     "metadata": {},
     "output_type": "execute_result"
    }
   ],
   "source": [
    "sentence = 'this is a test'\n",
    "\n",
    "sentence.split(' ')"
   ]
  },
  {
   "cell_type": "code",
   "execution_count": 11,
   "metadata": {},
   "outputs": [
    {
     "data": {
      "text/plain": [
       "['this', 'is', 'a', 'test']"
      ]
     },
     "execution_count": 11,
     "metadata": {},
     "output_type": "execute_result"
    }
   ],
   "source": [
    "sentence.split()"
   ]
  },
  {
   "cell_type": "code",
   "execution_count": 35,
   "metadata": {},
   "outputs": [],
   "source": [
    "\"\"\"Solution to chapter 2, exercise 6: pl_sentence\"\"\"\n",
    "\n",
    "\n",
    "def pl_sentence(sentence):\n",
    "    \"\"\"Get a sentence from the user, containing\n",
    "lowercase, unpuncutated words. Return the\n",
    "sentence, translated into Pig Latin.\n",
    "\"\"\"\n",
    "    output = []\n",
    "    for word in sentence.split():\n",
    "        if word[0] in 'aeiou':\n",
    "            output.append(f'{word}way')\n",
    "        else:\n",
    "            output.append(f'{word[1:]}{word[0]}ay')\n",
    "\n",
    "    return ' '.join(output)\n"
   ]
  },
  {
   "cell_type": "code",
   "execution_count": 36,
   "metadata": {},
   "outputs": [
    {
     "name": "stdout",
     "output_type": "stream",
     "text": [
      "histay isway away esttay\n"
     ]
    }
   ],
   "source": [
    "print(pl_sentence('this is a test'))"
   ]
  },
  {
   "cell_type": "markdown",
   "metadata": {},
   "source": [
    "# Exercise 7: Ubbi dubbi\n",
    "\n",
    "Ask the user to enter a word,\n",
    "and return the word's translation into Ubbi Dubbi."
   ]
  },
  {
   "cell_type": "code",
   "execution_count": 19,
   "metadata": {},
   "outputs": [],
   "source": [
    "# 'hello' -> 'hubellubo'\n",
    "\n",
    "def ubbi_dubbi(word):\n",
    "    output = ''\n",
    "    for one_letter in word:\n",
    "        if one_letter in 'aeiou':\n",
    "            output += f'ub{one_letter}'\n",
    "        else:\n",
    "            output += one_letter\n",
    "    return output"
   ]
  },
  {
   "cell_type": "code",
   "execution_count": 20,
   "metadata": {},
   "outputs": [
    {
     "data": {
      "text/plain": [
       "'hubellubo'"
      ]
     },
     "execution_count": 20,
     "metadata": {},
     "output_type": "execute_result"
    }
   ],
   "source": [
    "ubbi_dubbi('hello')"
   ]
  },
  {
   "cell_type": "code",
   "execution_count": null,
   "metadata": {},
   "outputs": [],
   "source": []
  },
  {
   "cell_type": "markdown",
   "metadata": {},
   "source": [
    "# Exercise 8: Sort string\n",
    "\n",
    "Write a function, strsort.\n",
    "The function takes a string as input,\n",
    "and returns a string with its characters sorted."
   ]
  },
  {
   "cell_type": "code",
   "execution_count": 23,
   "metadata": {},
   "outputs": [
    {
     "name": "stdout",
     "output_type": "stream",
     "text": [
      "abc\n"
     ]
    }
   ],
   "source": [
    "def strsort(s):\n",
    "    return ''.join(sorted(s))\n",
    "\n",
    "print(strsort('cba'))\n"
   ]
  },
  {
   "cell_type": "code",
   "execution_count": 24,
   "metadata": {},
   "outputs": [
    {
     "name": "stdout",
     "output_type": "stream",
     "text": [
      "ACEbdf\n"
     ]
    }
   ],
   "source": [
    "print(strsort('AbCdEf'))"
   ]
  },
  {
   "cell_type": "code",
   "execution_count": null,
   "metadata": {},
   "outputs": [],
   "source": []
  }
 ],
 "metadata": {
  "kernelspec": {
   "display_name": "Python 3",
   "language": "python",
   "name": "python3"
  },
  "language_info": {
   "codemirror_mode": {
    "name": "ipython",
    "version": 3
   },
   "file_extension": ".py",
   "mimetype": "text/x-python",
   "name": "python",
   "nbconvert_exporter": "python",
   "pygments_lexer": "ipython3",
   "version": "3.7.6"
  }
 },
 "nbformat": 4,
 "nbformat_minor": 2
}
