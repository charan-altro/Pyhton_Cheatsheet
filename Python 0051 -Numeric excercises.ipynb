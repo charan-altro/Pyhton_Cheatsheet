{
 "cells": [
  {
   "cell_type": "markdown",
   "metadata": {},
   "source": [
    "# Summing numbers"
   ]
  },
  {
   "cell_type": "code",
   "execution_count": 2,
   "metadata": {},
   "outputs": [
    {
     "data": {
      "text/plain": [
       "3"
      ]
     },
     "execution_count": 2,
     "metadata": {},
     "output_type": "execute_result"
    }
   ],
   "source": [
    "sum([1,2])"
   ]
  },
  {
   "cell_type": "code",
   "execution_count": 12,
   "metadata": {},
   "outputs": [
    {
     "ename": "TypeError",
     "evalue": "'int' object is not iterable",
     "output_type": "error",
     "traceback": [
      "\u001b[1;31m---------------------------------------------------------------------------\u001b[0m",
      "\u001b[1;31mTypeError\u001b[0m                                 Traceback (most recent call last)",
      "\u001b[1;32m<ipython-input-12-a91f35d5101e>\u001b[0m in \u001b[0;36m<module>\u001b[1;34m\u001b[0m\n\u001b[1;32m----> 1\u001b[1;33m \u001b[0msum\u001b[0m\u001b[1;33m(\u001b[0m\u001b[1;36m1\u001b[0m\u001b[1;33m,\u001b[0m\u001b[1;36m2\u001b[0m\u001b[1;33m)\u001b[0m\u001b[1;33m\u001b[0m\u001b[1;33m\u001b[0m\u001b[0m\n\u001b[0m",
      "\u001b[1;31mTypeError\u001b[0m: 'int' object is not iterable"
     ]
    }
   ],
   "source": [
    "sum(1,2)"
   ]
  },
  {
   "cell_type": "code",
   "execution_count": 3,
   "metadata": {},
   "outputs": [
    {
     "name": "stdout",
     "output_type": "stream",
     "text": [
      "Help on built-in function sum in module builtins:\n",
      "\n",
      "sum(iterable, start=0, /)\n",
      "    Return the sum of a 'start' value (default: 0) plus an iterable of numbers\n",
      "    \n",
      "    When the iterable is empty, return the start value.\n",
      "    This function is intended specifically for use with numeric values and may\n",
      "    reject non-numeric types.\n",
      "\n"
     ]
    }
   ],
   "source": [
    "help(sum)"
   ]
  },
  {
   "cell_type": "markdown",
   "metadata": {},
   "source": [
    "\n",
    "    re-implementing functionality\n"
   ]
  },
  {
   "cell_type": "code",
   "execution_count": 17,
   "metadata": {},
   "outputs": [],
   "source": [
    "\"\"\"Solution to chapter 1, exercise 2, beyond 1: mysum with start\"\"\"\n",
    "\n",
    "\n",
    "def mysum(*numbers, start=0):\n",
    "    \"\"\"Accepts any number of numeric arguments as inputs.\n",
    "Returns the sum of those numbers, plus the value of \"start\",\n",
    "which defaults to 0.\n",
    "\"\"\"\n",
    "    output = start\n",
    "    for number in numbers:\n",
    "        output += number\n",
    "    return output"
   ]
  },
  {
   "cell_type": "code",
   "execution_count": 18,
   "metadata": {},
   "outputs": [
    {
     "data": {
      "text/plain": [
       "18"
      ]
     },
     "execution_count": 18,
     "metadata": {},
     "output_type": "execute_result"
    }
   ],
   "source": [
    "mysum(2,3,4,5,4)"
   ]
  },
  {
   "cell_type": "code",
   "execution_count": 19,
   "metadata": {},
   "outputs": [
    {
     "data": {
      "text/plain": [
       "18"
      ]
     },
     "execution_count": 19,
     "metadata": {},
     "output_type": "execute_result"
    }
   ],
   "source": [
    "mysum(*[2,3,4,5,4])"
   ]
  },
  {
   "cell_type": "code",
   "execution_count": 24,
   "metadata": {},
   "outputs": [],
   "source": [
    "\"\"\"Solution to chapter 1, exercise 2, beyond 2: mean\"\"\"\n",
    "\n",
    "\n",
    "def mean(*numbers):\n",
    "    \"\"\"Accepts a non-empty list of numbers.\n",
    "\n",
    "Returns the mean of those numbers.\n",
    "\"\"\"\n",
    "    return sum(numbers) / len(numbers)"
   ]
  },
  {
   "cell_type": "code",
   "execution_count": 25,
   "metadata": {},
   "outputs": [
    {
     "data": {
      "text/plain": [
       "172779.0"
      ]
     },
     "execution_count": 25,
     "metadata": {},
     "output_type": "execute_result"
    }
   ],
   "source": [
    "mean(234,345324)"
   ]
  },
  {
   "cell_type": "code",
   "execution_count": 26,
   "metadata": {},
   "outputs": [],
   "source": [
    "\"\"\"Solution to chapter 1, exercise 2, beyond 3: words summary\"\"\"\n",
    "\n",
    "\n",
    "def summarize(*words):\n",
    "    \"\"\"Accepts a list of strings.\n",
    "\n",
    "Returns a 3-element tuple containing three integers: (a) length\n",
    "of the shortest word, (b) length of the longest word, and (c)\n",
    "average word length.\n",
    "\"\"\"\n",
    "    word_lengths = [len(one_word)\n",
    "                    for one_word in words]\n",
    "\n",
    "    return min(word_lengths), max(word_lengths), sum(word_lengths)/len(word_lengths)\n",
    "\n"
   ]
  },
  {
   "cell_type": "code",
   "execution_count": 28,
   "metadata": {},
   "outputs": [
    {
     "data": {
      "text/plain": [
       "(1, 21, 9.4)"
      ]
     },
     "execution_count": 28,
     "metadata": {},
     "output_type": "execute_result"
    }
   ],
   "source": [
    "summarize('sadfl','sdfjhsdjf','skdjfhkjdsf','g','dfgdsgfgsdgdsfgdsfgds')"
   ]
  },
  {
   "cell_type": "code",
   "execution_count": 59,
   "metadata": {},
   "outputs": [],
   "source": [
    "def is_intable(one_item):\n",
    "    try:\n",
    "        int(one_item)\n",
    "        return True\n",
    "    except ValueError:\n",
    "        return False\n",
    "\n",
    "\n",
    "def sum_intable(*items):\n",
    "    \"\"\"Accepts a list of Python objects.\n",
    "\n",
    "Sums those objects that are integers or can be\n",
    "turned into integers.\n",
    "\"\"\"\n",
    "\n",
    "    return sum(one_item\n",
    "               for one_item in items\n",
    "               if is_intable(one_item))"
   ]
  },
  {
   "cell_type": "code",
   "execution_count": 60,
   "metadata": {},
   "outputs": [
    {
     "data": {
      "text/plain": [
       "False"
      ]
     },
     "execution_count": 60,
     "metadata": {},
     "output_type": "execute_result"
    }
   ],
   "source": [
    "is_intable('j')"
   ]
  },
  {
   "cell_type": "code",
   "execution_count": 61,
   "metadata": {},
   "outputs": [
    {
     "data": {
      "text/plain": [
       "False"
      ]
     },
     "execution_count": 61,
     "metadata": {},
     "output_type": "execute_result"
    }
   ],
   "source": [
    "is_intable('1.0')"
   ]
  },
  {
   "cell_type": "code",
   "execution_count": 62,
   "metadata": {},
   "outputs": [
    {
     "data": {
      "text/plain": [
       "True"
      ]
     },
     "execution_count": 62,
     "metadata": {},
     "output_type": "execute_result"
    }
   ],
   "source": [
    "is_intable(9)"
   ]
  },
  {
   "cell_type": "code",
   "execution_count": 63,
   "metadata": {},
   "outputs": [
    {
     "data": {
      "text/plain": [
       "972"
      ]
     },
     "execution_count": 63,
     "metadata": {},
     "output_type": "execute_result"
    }
   ],
   "source": [
    "sum_intable(4,484,484)"
   ]
  },
  {
   "cell_type": "code",
   "execution_count": 1,
   "metadata": {},
   "outputs": [],
   "source": [
    "#!/usr/bin/env python3\n",
    "\"\"\"Solution to chapter 1, exercise 3: run_timing\"\"\"\n",
    "\n",
    "\n",
    "def run_timing():\n",
    "    \"\"\"Asks the user repeatedly for numeric input.\n",
    "Prints the average time and number of runs.\n",
    "\"\"\"\n",
    "\n",
    "    number_of_runs = 0\n",
    "    total_time = 0\n",
    "\n",
    "    while True:\n",
    "        one_run = input('Enter 10 km run time: ')\n",
    "\n",
    "        if not one_run:\n",
    "            break\n",
    "\n",
    "        number_of_runs += 1\n",
    "        total_time += float(one_run)\n",
    "\n",
    "    average_time = total_time / number_of_runs\n",
    "\n",
    "    print(f'Average of {average_time}, over {number_of_runs} runs')"
   ]
  },
  {
   "cell_type": "code",
   "execution_count": 4,
   "metadata": {},
   "outputs": [
    {
     "name": "stdout",
     "output_type": "stream",
     "text": [
      "Enter 10 km run time: 7\n",
      "Enter 10 km run time: 8\n",
      "Enter 10 km run time: 0\n",
      "Enter 10 km run time: \n",
      "Average of 5.0, over 3 runs\n"
     ]
    }
   ],
   "source": [
    "run_timing()"
   ]
  },
  {
   "cell_type": "code",
   "execution_count": 2,
   "metadata": {
    "scrolled": true
   },
   "outputs": [
    {
     "name": "stdout",
     "output_type": "stream",
     "text": [
      "Enter 10 km run time: 5\n",
      "Enter 10 km run time: 7\n",
      "Enter 10 km run time: u\n"
     ]
    },
    {
     "ename": "ValueError",
     "evalue": "could not convert string to float: 'u'",
     "output_type": "error",
     "traceback": [
      "\u001b[1;31m---------------------------------------------------------------------------\u001b[0m",
      "\u001b[1;31mValueError\u001b[0m                                Traceback (most recent call last)",
      "\u001b[1;32m<ipython-input-2-f7e877ca5875>\u001b[0m in \u001b[0;36m<module>\u001b[1;34m\u001b[0m\n\u001b[1;32m----> 1\u001b[1;33m \u001b[0mrun_timing\u001b[0m\u001b[1;33m(\u001b[0m\u001b[1;33m)\u001b[0m\u001b[1;33m\u001b[0m\u001b[1;33m\u001b[0m\u001b[0m\n\u001b[0m",
      "\u001b[1;32m<ipython-input-1-7653dddb27a2>\u001b[0m in \u001b[0;36mrun_timing\u001b[1;34m()\u001b[0m\n\u001b[0;32m     18\u001b[0m \u001b[1;33m\u001b[0m\u001b[0m\n\u001b[0;32m     19\u001b[0m         \u001b[0mnumber_of_runs\u001b[0m \u001b[1;33m+=\u001b[0m \u001b[1;36m1\u001b[0m\u001b[1;33m\u001b[0m\u001b[1;33m\u001b[0m\u001b[0m\n\u001b[1;32m---> 20\u001b[1;33m         \u001b[0mtotal_time\u001b[0m \u001b[1;33m+=\u001b[0m \u001b[0mfloat\u001b[0m\u001b[1;33m(\u001b[0m\u001b[0mone_run\u001b[0m\u001b[1;33m)\u001b[0m\u001b[1;33m\u001b[0m\u001b[1;33m\u001b[0m\u001b[0m\n\u001b[0m\u001b[0;32m     21\u001b[0m \u001b[1;33m\u001b[0m\u001b[0m\n\u001b[0;32m     22\u001b[0m     \u001b[0maverage_time\u001b[0m \u001b[1;33m=\u001b[0m \u001b[0mtotal_time\u001b[0m \u001b[1;33m/\u001b[0m \u001b[0mnumber_of_runs\u001b[0m\u001b[1;33m\u001b[0m\u001b[1;33m\u001b[0m\u001b[0m\n",
      "\u001b[1;31mValueError\u001b[0m: could not convert string to float: 'u'"
     ]
    }
   ],
   "source": [
    "run_timing()"
   ]
  },
  {
   "cell_type": "markdown",
   "metadata": {},
   "source": [
    "## try and except "
   ]
  },
  {
   "cell_type": "code",
   "execution_count": null,
   "metadata": {},
   "outputs": [],
   "source": [
    "#!/usr/bin/env python3\n",
    "\"\"\"Solution to chapter 1, exercise 3: run_timing\"\"\"\n",
    "\n",
    "\n",
    "def run_timing():\n",
    "    \"\"\"Asks the user repeatedly for numeric input.\n",
    "Prints the average time and number of runs.\n",
    "\"\"\"\n",
    "\n",
    "    number_of_runs = 0\n",
    "    total_time = 0\n",
    "\n",
    "    while True:\n",
    "        try:\n",
    "            one_run = float(input('Enter 10 km run time: '))\n",
    "            print(f\"n = {one_run}\")\n",
    "        except ValueError as e:\n",
    "            print(\"Hey! That's not a valid number!\\n\")\n",
    "\n",
    "            number_of_runs += 1\n",
    "            total_time += float(one_run)\n",
    "\n",
    "            average_time = total_time / number_of_runs\n",
    "\n",
    "            print(f'Average of {average_time}, over {number_of_runs} runs')\n"
   ]
  },
  {
   "cell_type": "code",
   "execution_count": null,
   "metadata": {},
   "outputs": [],
   "source": [
    "run_timing()"
   ]
  },
  {
   "cell_type": "code",
   "execution_count": 1,
   "metadata": {},
   "outputs": [],
   "source": [
    "\"\"\"Solution to chapter 1, exercise 3, beyond 1: before_after_dot\"\"\"\n",
    "\n",
    "\n",
    "def before_after_dot(f, before, after):\n",
    "    \"\"\"Accepts a float, and two integers.\n",
    "\n",
    "Returns a float containing before digits preceding the dcimal point,\n",
    "and after digits following the decimal point.\n",
    "\"\"\"\n",
    "    s = str(f)\n",
    "    i = s.index('.')\n",
    "    return s[i-before:i+after+1]"
   ]
  },
  {
   "cell_type": "code",
   "execution_count": 6,
   "metadata": {},
   "outputs": [
    {
     "data": {
      "text/plain": [
       "'6.44'"
      ]
     },
     "execution_count": 6,
     "metadata": {},
     "output_type": "execute_result"
    }
   ],
   "source": [
    "before_after_dot(756.445645645,1,2)"
   ]
  },
  {
   "cell_type": "code",
   "execution_count": 7,
   "metadata": {},
   "outputs": [],
   "source": [
    "\"\"\"Solution to chapter 1, exercise 3, beyond 2: decimal_add\"\"\"\n",
    "\n",
    "from decimal import Decimal\n",
    "\n",
    "\n",
    "def decimal_add(first, second):\n",
    "    \"\"\"Accepts two strings, turns them into decimals, and returns a float\n",
    "representing the sum of these two.\n",
    "\"\"\"\n",
    "    return float(Decimal(first) + Decimal(second))"
   ]
  },
  {
   "cell_type": "code",
   "execution_count": 8,
   "metadata": {},
   "outputs": [
    {
     "data": {
      "text/plain": [
       "5.78333333"
      ]
     },
     "execution_count": 8,
     "metadata": {},
     "output_type": "execute_result"
    }
   ],
   "source": [
    "decimal_add(2.45,3.33333333)"
   ]
  },
  {
   "cell_type": "code",
   "execution_count": 22,
   "metadata": {},
   "outputs": [],
   "source": [
    "\"\"\"Solution to chapter 1, exercise 4: hex_output\"\"\"\n",
    "\n",
    "\n",
    "def hex_output():\n",
    "    \"\"\"Ask the user to enter a valid hexadecimal\n",
    "number, and print the decimal equivalent.\n",
    "\"\"\"\n",
    "\n",
    "    decnum = 0\n",
    "    hexnum = input('Enter a hex number to convert: ')\n",
    "    for power, digit in enumerate(reversed(hexnum)):\n",
    "        decnum += int(digit, 16) * (16 ** power)\n",
    "    print(decnum)\n"
   ]
  },
  {
   "cell_type": "code",
   "execution_count": 23,
   "metadata": {},
   "outputs": [
    {
     "name": "stdout",
     "output_type": "stream",
     "text": [
      "Enter a hex number to convert: 16\n",
      "22\n"
     ]
    }
   ],
   "source": [
    "hex_output()"
   ]
  },
  {
   "cell_type": "code",
   "execution_count": 15,
   "metadata": {},
   "outputs": [
    {
     "name": "stdout",
     "output_type": "stream",
     "text": [
      "Enter a hex number to convert: 456456456567657\n",
      "312513521396381271\n"
     ]
    }
   ],
   "source": [
    "hex_output()"
   ]
  },
  {
   "cell_type": "code",
   "execution_count": 24,
   "metadata": {},
   "outputs": [
    {
     "name": "stdout",
     "output_type": "stream",
     "text": [
      "Enter a hex number to convert: C\n",
      "12\n"
     ]
    }
   ],
   "source": [
    "hex_output()"
   ]
  },
  {
   "cell_type": "markdown",
   "metadata": {},
   "source": [
    "# lets create names word as hexadecimal into binary / decimal"
   ]
  },
  {
   "cell_type": "markdown",
   "metadata": {},
   "source": [
    "### Need to build"
   ]
  },
  {
   "cell_type": "code",
   "execution_count": null,
   "metadata": {},
   "outputs": [],
   "source": []
  },
  {
   "cell_type": "code",
   "execution_count": null,
   "metadata": {},
   "outputs": [],
   "source": []
  },
  {
   "cell_type": "code",
   "execution_count": 25,
   "metadata": {},
   "outputs": [],
   "source": [
    "\"\"\"Solution to chapter 1, exercise 4, beyond 1: ord_hex\"\"\"\n",
    "\n",
    "\n",
    "def ord_hex_output():\n",
    "    \"\"\"Get a hex number to convert. Use ord to turn it into an integer,\n",
    "and print the decimal equivalent.\n",
    "\"\"\"\n",
    "\n",
    "    decnum = 0\n",
    "    hexnum = input('Enter a hex number to convert: ')\n",
    "    for power, digit in enumerate(reversed(hexnum)):\n",
    "        if 48 <= ord(digit) <= 57:\n",
    "            dec_digit = ord(digit) - 48\n",
    "        elif 97 <= ord(digit) <= 102:\n",
    "            dec_digit = ord(digit) - 87\n",
    "\n",
    "        decnum += dec_digit * (16 ** power)\n",
    "    print(decnum)\n"
   ]
  },
  {
   "cell_type": "code",
   "execution_count": 26,
   "metadata": {},
   "outputs": [
    {
     "name": "stdout",
     "output_type": "stream",
     "text": [
      "Enter a hex number to convert: 16\n",
      "22\n"
     ]
    }
   ],
   "source": [
    "ord_hex_output()"
   ]
  },
  {
   "cell_type": "code",
   "execution_count": 27,
   "metadata": {},
   "outputs": [],
   "source": [
    "\"\"\"Solution to chapter 1, exercise 4, beyond 2: name_triangle\"\"\"\n",
    "\n",
    "\n",
    "def name_triangle():\n",
    "    \"\"\"Get the user's name. Print a name triangle, starting\n",
    "with the first letter, then the first two letters, etc.\n",
    "\"\"\"\n",
    "    name = input(\"Enter your name: \")\n",
    "\n",
    "    for i in range(len(name)):\n",
    "        print(name[:i+1])\n"
   ]
  },
  {
   "cell_type": "code",
   "execution_count": 28,
   "metadata": {},
   "outputs": [
    {
     "name": "stdout",
     "output_type": "stream",
     "text": [
      "Enter your name: Charan\n",
      "C\n",
      "Ch\n",
      "Cha\n",
      "Char\n",
      "Chara\n",
      "Charan\n"
     ]
    }
   ],
   "source": [
    "name_triangle()"
   ]
  },
  {
   "cell_type": "code",
   "execution_count": null,
   "metadata": {},
   "outputs": [],
   "source": []
  }
 ],
 "metadata": {
  "kernelspec": {
   "display_name": "Python 3",
   "language": "python",
   "name": "python3"
  },
  "language_info": {
   "codemirror_mode": {
    "name": "ipython",
    "version": 3
   },
   "file_extension": ".py",
   "mimetype": "text/x-python",
   "name": "python",
   "nbconvert_exporter": "python",
   "pygments_lexer": "ipython3",
   "version": "3.7.6"
  }
 },
 "nbformat": 4,
 "nbformat_minor": 4
}
