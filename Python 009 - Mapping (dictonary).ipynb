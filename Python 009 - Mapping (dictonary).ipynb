{
 "cells": [
  {
   "cell_type": "markdown",
   "metadata": {},
   "source": [
    "# Dictionaries\n",
    "\n",
    "\n",
    "\n",
    "https://docs.python.org/3/tutorial/datastructures.html#dictionaries\n",
    "\n",
    "https://towardsdatascience.com/working-with-python-dictionaries-a-cheat-sheet-706c14d29da5\n",
    "\n",
    "https://realpython.com/python-dicts/"
   ]
  },
  {
   "cell_type": "code",
   "execution_count": null,
   "metadata": {},
   "outputs": [],
   "source": [
    "help(dict)\n",
    "\n",
    "\n",
    "class dict(object)\n",
    " |  dict() -> new empty dictionary\n",
    " |  dict(mapping) -> new dictionary initialized from a mapping object's\n",
    " |      (key, value) pairs\n",
    " |  dict(iterable) -> new dictionary initialized as if via:\n",
    " |      d = {}\n",
    " |      for k, v in iterable:\n",
    " |          d[k] = v\n",
    " |  dict(**kwargs) -> new dictionary initialized with the name=value pairs\n",
    " |      in the keyword argument list.  For example:  dict(one=1, two=2)"
   ]
  },
  {
   "cell_type": "markdown",
   "metadata": {},
   "source": [
    "    Dictionaries in Python are a collection of key-value pairs — meaning every item in the dictionary has a key and an associated value."
   ]
  },
  {
   "cell_type": "markdown",
   "metadata": {},
   "source": [
    "###### If we want to write down prices of some items in a grocery store, normally we will note them on a piece of paper like this:"
   ]
  },
  {
   "cell_type": "code",
   "execution_count": null,
   "metadata": {},
   "outputs": [],
   "source": [
    "eggs - 4.99\n",
    "banana - 1.49\n",
    "cheese- 4.5\n",
    "eggplant - 2.5\n",
    "bread - 3.99"
   ]
  },
  {
   "cell_type": "markdown",
   "metadata": {},
   "source": [
    "    In Python dictionary lingo, the name of each item is “key” and the associated price is “value” and they appear in pairs. We can represent the same in a Python dictionary data structure as follows:"
   ]
  },
  {
   "cell_type": "code",
   "execution_count": 3,
   "metadata": {},
   "outputs": [
    {
     "data": {
      "text/plain": [
       "{'eggs': 4.99, 'banana': 1.49, 'cheese': 4.5, 'eggplant': 2.5, 'bread': 3.99}"
      ]
     },
     "execution_count": 3,
     "metadata": {},
     "output_type": "execute_result"
    }
   ],
   "source": [
    "{\"eggs\": 4.99,\n",
    "\"banana\": 1.49,\n",
    "\"cheese\": 4.5,\n",
    "\"eggplant\": 2.5,\n",
    "\"bread\": 3.99}"
   ]
  },
  {
   "cell_type": "markdown",
   "metadata": {},
   "source": [
    "### Notice the differences. In the dictionary\n",
    "- each key is within quotation marks because they are strings\n",
    "- the associated values are not quoted because they are numeric\n",
    "- keys and values are separated by a colon (:)\n",
    "- the items are comma-separated"
   ]
  },
  {
   "cell_type": "markdown",
   "metadata": {},
   "source": [
    "    Now, in the first items we have {\"eggs”: 4.99} but in reality, eggs can have several values — one for brown eggs, \n",
    "    one for white eggs and one for organic eggs — and python dictionaries allows for adding more than one value in \n",
    "    the dictionary such that {“eggs”: [3.99, 4.99, 5.50]}."
   ]
  },
  {
   "cell_type": "code",
   "execution_count": 15,
   "metadata": {},
   "outputs": [
    {
     "data": {
      "text/plain": [
       "{'eggs': [3.99, 4.99, 5.5],\n",
       " 'banana': 1.49,\n",
       " 'cheese': 4.5,\n",
       " 'eggplant': 2.5,\n",
       " 'bread': 3.99}"
      ]
     },
     "execution_count": 15,
     "metadata": {},
     "output_type": "execute_result"
    }
   ],
   "source": [
    "grocery_items = {\"eggs\": [3.99, 4.99, 5.50],\n",
    "\"banana\": 1.49,\n",
    "\"cheese\": 4.5,\n",
    "\"eggplant\": 2.5,\n",
    "\"bread\": 3.99}\n",
    "grocery_items"
   ]
  },
  {
   "cell_type": "code",
   "execution_count": 16,
   "metadata": {},
   "outputs": [
    {
     "data": {
      "text/plain": [
       "{'eggs': [3.99, 4.99, 5.5],\n",
       " 'banana': 1.49,\n",
       " 'cheese': 4.5,\n",
       " 'eggplant': 2.5,\n",
       " 'bread': 3.99,\n",
       " 'onion': 3.5}"
      ]
     },
     "execution_count": 16,
     "metadata": {},
     "output_type": "execute_result"
    }
   ],
   "source": [
    "grocery_items[\"onion\"] = 3.50  #Adding items\n",
    "grocery_items"
   ]
  },
  {
   "cell_type": "code",
   "execution_count": 17,
   "metadata": {},
   "outputs": [
    {
     "data": {
      "text/plain": [
       "('onion', 3.5)"
      ]
     },
     "execution_count": 17,
     "metadata": {},
     "output_type": "execute_result"
    }
   ],
   "source": [
    "grocery_items.popitem() #Remove the last item using popitem() method"
   ]
  },
  {
   "cell_type": "code",
   "execution_count": 18,
   "metadata": {},
   "outputs": [
    {
     "data": {
      "text/plain": [
       "1.49"
      ]
     },
     "execution_count": 18,
     "metadata": {},
     "output_type": "execute_result"
    }
   ],
   "source": [
    "grocery_items.pop(\"banana\") # Or remove an item by its key name using just pop() method:"
   ]
  },
  {
   "cell_type": "code",
   "execution_count": 19,
   "metadata": {},
   "outputs": [
    {
     "data": {
      "text/plain": [
       "{'eggs': [3.99, 4.99, 5.5], 'cheese': 4.5, 'eggplant': 2.5, 'bread': 3.99}"
      ]
     },
     "execution_count": 19,
     "metadata": {},
     "output_type": "execute_result"
    }
   ],
   "source": [
    "grocery_items"
   ]
  },
  {
   "cell_type": "code",
   "execution_count": 22,
   "metadata": {},
   "outputs": [],
   "source": [
    "grocery_items.clear()"
   ]
  },
  {
   "cell_type": "code",
   "execution_count": 23,
   "metadata": {},
   "outputs": [
    {
     "data": {
      "text/plain": [
       "{}"
      ]
     },
     "execution_count": 23,
     "metadata": {},
     "output_type": "execute_result"
    }
   ],
   "source": [
    "grocery_items"
   ]
  },
  {
   "cell_type": "markdown",
   "metadata": {},
   "source": [
    "## Accessing items"
   ]
  },
  {
   "cell_type": "code",
   "execution_count": 26,
   "metadata": {},
   "outputs": [
    {
     "data": {
      "text/plain": [
       "dict_keys(['eggs', 'banana', 'cheese', 'eggplant', 'bread'])"
      ]
     },
     "execution_count": 26,
     "metadata": {},
     "output_type": "execute_result"
    }
   ],
   "source": [
    "grocery_items = {\"eggs\": [3.99, 4.99, 5.50],\n",
    "\"banana\": 1.49,\n",
    "\"cheese\": 4.5,\n",
    "\"eggplant\": 2.5,\n",
    "\"bread\": 3.99}\n",
    "grocery_items\n",
    "grocery_items.keys()"
   ]
  },
  {
   "cell_type": "code",
   "execution_count": 27,
   "metadata": {},
   "outputs": [
    {
     "data": {
      "text/plain": [
       "dict_values([[3.99, 4.99, 5.5], 1.49, 4.5, 2.5, 3.99])"
      ]
     },
     "execution_count": 27,
     "metadata": {},
     "output_type": "execute_result"
    }
   ],
   "source": [
    "grocery_items.values()"
   ]
  },
  {
   "cell_type": "code",
   "execution_count": 28,
   "metadata": {},
   "outputs": [
    {
     "data": {
      "text/plain": [
       "1.49"
      ]
     },
     "execution_count": 28,
     "metadata": {},
     "output_type": "execute_result"
    }
   ],
   "source": [
    "# access values by key\n",
    "grocery_items[\"banana\"]\n",
    "# or \n",
    "grocery_items.get(\"banana\")\n"
   ]
  },
  {
   "cell_type": "code",
   "execution_count": 29,
   "metadata": {},
   "outputs": [
    {
     "data": {
      "text/plain": [
       "[3.99, 4.99, 5.5]"
      ]
     },
     "execution_count": 29,
     "metadata": {},
     "output_type": "execute_result"
    }
   ],
   "source": [
    "grocery_items.get(\"eggs\")"
   ]
  },
  {
   "cell_type": "code",
   "execution_count": 30,
   "metadata": {},
   "outputs": [
    {
     "data": {
      "text/plain": [
       "3.99"
      ]
     },
     "execution_count": 30,
     "metadata": {},
     "output_type": "execute_result"
    }
   ],
   "source": [
    "grocery_items.get(\"eggs\")[0]"
   ]
  },
  {
   "cell_type": "code",
   "execution_count": 31,
   "metadata": {},
   "outputs": [],
   "source": [
    "grocery_items.update({\"banana\": 0.85})"
   ]
  },
  {
   "cell_type": "code",
   "execution_count": 32,
   "metadata": {},
   "outputs": [
    {
     "data": {
      "text/plain": [
       "['eggs', 'banana', 'cheese', 'eggplant', 'bread']"
      ]
     },
     "execution_count": 32,
     "metadata": {},
     "output_type": "execute_result"
    }
   ],
   "source": [
    "list(grocery_items)"
   ]
  },
  {
   "cell_type": "code",
   "execution_count": 33,
   "metadata": {},
   "outputs": [
    {
     "data": {
      "text/plain": [
       "False"
      ]
     },
     "execution_count": 33,
     "metadata": {},
     "output_type": "execute_result"
    }
   ],
   "source": [
    "\"potato\" in grocery_items\n"
   ]
  },
  {
   "cell_type": "code",
   "execution_count": 34,
   "metadata": {},
   "outputs": [
    {
     "data": {
      "text/plain": [
       "\"{'eggs': [3.99, 4.99, 5.5], 'banana': 0.85, 'cheese': 4.5, 'eggplant': 2.5, 'bread': 3.99}\""
      ]
     },
     "execution_count": 34,
     "metadata": {},
     "output_type": "execute_result"
    }
   ],
   "source": [
    "str(grocery_items)"
   ]
  },
  {
   "cell_type": "markdown",
   "metadata": {},
   "source": [
    "## Looping through a dictionary"
   ]
  },
  {
   "cell_type": "code",
   "execution_count": 35,
   "metadata": {},
   "outputs": [
    {
     "name": "stdout",
     "output_type": "stream",
     "text": [
      "eggs\n",
      "banana\n",
      "cheese\n",
      "eggplant\n",
      "bread\n"
     ]
    }
   ],
   "source": [
    "for i in grocery_items:\n",
    "    print(i)"
   ]
  },
  {
   "cell_type": "code",
   "execution_count": 36,
   "metadata": {},
   "outputs": [
    {
     "name": "stdout",
     "output_type": "stream",
     "text": [
      "eggs\n",
      "eggplant\n"
     ]
    }
   ],
   "source": [
    "for i in grocery_items.keys():\n",
    "    if i.startswith(\"e\"):\n",
    "        print(i)"
   ]
  },
  {
   "cell_type": "markdown",
   "metadata": {},
   "source": [
    "## Dictionary comprehensions"
   ]
  },
  {
   "cell_type": "markdown",
   "metadata": {},
   "source": [
    "    Like list comprehensions, Python also supports dictionary comprehensions to perform different kinds of operations. \n",
    "    The for loops we created above could also be expressed in dictionary comprehension syntax."
   ]
  },
  {
   "cell_type": "markdown",
   "metadata": {},
   "source": [
    "###### For example, to print the values of a dictionary:"
   ]
  },
  {
   "cell_type": "code",
   "execution_count": 37,
   "metadata": {},
   "outputs": [
    {
     "data": {
      "text/plain": [
       "[[3.99, 4.99, 5.5], 0.85, 4.5, 2.5, 3.99]"
      ]
     },
     "execution_count": 37,
     "metadata": {},
     "output_type": "execute_result"
    }
   ],
   "source": [
    "[x for x in grocery_items.values()]"
   ]
  },
  {
   "cell_type": "code",
   "execution_count": null,
   "metadata": {},
   "outputs": [],
   "source": []
  }
 ],
 "metadata": {
  "kernelspec": {
   "display_name": "Python 3",
   "language": "python",
   "name": "python3"
  },
  "language_info": {
   "codemirror_mode": {
    "name": "ipython",
    "version": 3
   },
   "file_extension": ".py",
   "mimetype": "text/x-python",
   "name": "python",
   "nbconvert_exporter": "python",
   "pygments_lexer": "ipython3",
   "version": "3.7.6"
  }
 },
 "nbformat": 4,
 "nbformat_minor": 4
}
